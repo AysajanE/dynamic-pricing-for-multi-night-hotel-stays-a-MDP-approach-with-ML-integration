{
 "cells": [
  {
   "cell_type": "code",
   "execution_count": null,
   "id": "ad8ad7fd-5cc5-4174-a191-29a816e15993",
   "metadata": {},
   "outputs": [],
   "source": [
    "# Imports and Setup\n",
    "import numpy as np\n",
    "import matplotlib.pyplot as plt\n",
    "from IPython.display import display\n",
    "import ipywidgets as widgets\n",
    "from model import DynamicPricingModel, ProblemParameters\n",
    "from visualization import HotelPricingVisualizer"
   ]
  },
  {
   "cell_type": "code",
   "execution_count": null,
   "id": "317ecbaf-e871-4ca4-bdb1-9626d6ba74b9",
   "metadata": {},
   "outputs": [],
   "source": [
    "#For interactive plots\n",
    "%matplotlib inline"
   ]
  },
  {
   "cell_type": "code",
   "execution_count": null,
   "id": "965de188-8078-4700-bd86-c376f08a0479",
   "metadata": {},
   "outputs": [],
   "source": [
    "# Define interactive parameter adjustment\n",
    "def create_visualization(N, T, C, price_min, price_max, price_levels, arrival_prob):\n",
    "    \"\"\"Helper function to create and display visualizations\"\"\"\n",
    "    params = ProblemParameters(\n",
    "        N=N, T=T, C=C,\n",
    "        price_min=price_min,\n",
    "        price_max=price_max,\n",
    "        price_levels=price_levels,\n",
    "        arrival_prob_base=arrival_prob\n",
    "    )\n",
    "    \n",
    "    # Create and solve model\n",
    "    model = DynamicPricingModel(params)\n",
    "    model.solve(use_parallel=False)\n",
    "    \n",
    "    # Get solution data\n",
    "    solution_data = model.get_solution_data()\n",
    "    \n",
    "    # Create visualizer and generate plots\n",
    "    viz = HotelPricingVisualizer(solution_data)\n",
    "    viz.plot_all()"
   ]
  },
  {
   "cell_type": "code",
   "execution_count": null,
   "id": "72d2edce-d91e-48be-a9db-9496094fdf80",
   "metadata": {},
   "outputs": [],
   "source": [
    "# Create interactive widgets\n",
    "widgets.interact(\n",
    "    create_visualization,\n",
    "    N=widgets.IntSlider(min=2, max=5, value=3, description='Service Days:'),\n",
    "    T=widgets.IntSlider(min=1, max=5, value=2, description='Booking Periods:'),\n",
    "    C=widgets.IntSlider(min=1, max=10, value=5, description='Capacity:'),\n",
    "    price_min=widgets.FloatSlider(min=0, max=100, value=50, description='Min Price:'),\n",
    "    price_max=widgets.FloatSlider(min=100, max=200, value=150, description='Max Price:'),\n",
    "    price_levels=widgets.IntSlider(min=2, max=10, value=3, description='Price Levels:'),\n",
    "    arrival_prob=widgets.FloatSlider(min=0.01, max=0.16, value=0.15, description='Arrival Prob:')\n",
    ")"
   ]
  },
  {
   "cell_type": "markdown",
   "id": "b4188cb9-0b21-465b-a008-75b87b00816f",
   "metadata": {},
   "source": [
    "## Basic Analysis"
   ]
  },
  {
   "cell_type": "code",
   "execution_count": null,
   "id": "8088766e-0faa-4bab-93b6-7ee62941abba",
   "metadata": {},
   "outputs": [],
   "source": [
    "# Define base parameters\n",
    "base_params = ProblemParameters(\n",
    "    N=3, T=2, C=5,\n",
    "    price_min=50.0,\n",
    "    price_max=150.0,\n",
    "    price_levels=3,\n",
    "    arrival_prob_base=0.15\n",
    ")\n",
    "\n",
    "# Create and solve model\n",
    "model = DynamicPricingModel(base_params)\n",
    "model.solve(use_parallel=False)\n",
    "\n",
    "# Create visualizer\n",
    "solution_data = model.get_solution_data()\n",
    "viz = HotelPricingVisualizer(solution_data)\n",
    "\n",
    "# Generate specific visualizations\n",
    "viz.plot_pricing_policy_3d()\n",
    "viz.plot_value_function()"
   ]
  },
  {
   "cell_type": "markdown",
   "id": "bacef6c0-d139-4bae-8774-fc040b90cfee",
   "metadata": {},
   "source": [
    "## Scenario Analysis"
   ]
  },
  {
   "cell_type": "code",
   "execution_count": null,
   "id": "e03476c2-20cc-4948-9526-3b5b79bcd723",
   "metadata": {},
   "outputs": [],
   "source": [
    "# Scenario analysis\n",
    "def analyze_scenario(params: ProblemParameters):\n",
    "    model = DynamicPricingModel(params)\n",
    "    model.solve(use_parallel=False)\n",
    "    return model.get_solution_data()\n",
    "\n",
    "# Define scenarios\n",
    "scenarios = [\n",
    "    ProblemParameters(N=3, T=2, C=5, price_min=50, price_max=150, \n",
    "                     price_levels=3, arrival_prob_base=0.15),  # Base\n",
    "    ProblemParameters(N=3, T=2, C=10, price_min=50, price_max=150, \n",
    "                     price_levels=3, arrival_prob_base=0.15),  # High capacity\n",
    "    ProblemParameters(N=3, T=2, C=5, price_min=75, price_max=175, \n",
    "                     price_levels=3, arrival_prob_base=0.15),  # High prices\n",
    "]\n",
    "\n",
    "# Analyze each scenario\n",
    "for i, params in enumerate(scenarios):\n",
    "    solution_data = analyze_scenario(params)\n",
    "    viz = HotelPricingVisualizer(solution_data)\n",
    "    print(f\"\\nScenario {i+1}:\")\n",
    "    print(f\"Capacity: {params.C}, Price Range: ({params.price_min}, {params.price_max})\")\n",
    "    viz.plot_value_function()\n",
    "    plt.show()\n"
   ]
  }
 ],
 "metadata": {
  "kernelspec": {
   "display_name": "Python 3 (ipykernel)",
   "language": "python",
   "name": "python3"
  },
  "language_info": {
   "codemirror_mode": {
    "name": "ipython",
    "version": 3
   },
   "file_extension": ".py",
   "mimetype": "text/x-python",
   "name": "python",
   "nbconvert_exporter": "python",
   "pygments_lexer": "ipython3",
   "version": "3.11.0"
  }
 },
 "nbformat": 4,
 "nbformat_minor": 5
}
