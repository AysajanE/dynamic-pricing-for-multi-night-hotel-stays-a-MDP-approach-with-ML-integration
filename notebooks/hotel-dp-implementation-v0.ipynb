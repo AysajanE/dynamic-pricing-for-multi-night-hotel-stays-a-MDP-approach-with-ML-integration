{
 "cells": [
  {
   "cell_type": "markdown",
   "id": "8f3687e6-66e0-40d2-a1c3-c7c5650feca8",
   "metadata": {},
   "source": [
    "# Data-Driven Dynamic Pricing in the Hotel Industry"
   ]
  },
  {
   "cell_type": "markdown",
   "id": "0cd5474b-3f33-49d9-bc0c-54b17d43d78d",
   "metadata": {},
   "source": [
    "## Table of Contents\n",
    "1. [Problem Setup](#problem-setup)\n",
    "2. [Implementation Steps](#implementation-steps)\n",
    "    - [Define Booking Classes](#1-define-booking-classes)\n",
    "    - [Define State Space](#2-define-state-space)\n",
    "    - [Define Pricing and Demand Functions](#3-define-pricing-and-demand-functions)\n",
    "    - [Implement Dynamic Programming](#4-implement-dynamic-programming)\n",
    "    - [Visualize Results](#5-visualize-results)"
   ]
  },
  {
   "cell_type": "markdown",
   "id": "b4406acb-f9fc-483b-91dc-549be7b463e3",
   "metadata": {},
   "source": [
    "## Problem Setup\n",
    "\n",
    "We aim to optimize room pricing for a hotel with limited capacity over a short booking horizon. Specifically:\n",
    "\n",
    "- **Capacity $C$**: 5 rooms\n",
    "- **Service Horizon $N$**: 3 days\n",
    "- **Booking Horizon $T$**: 2 booking periods\n",
    "\n",
    "**Booking Classes**: Customers can book rooms for stays spanning multiple days. Each booking class is defined by its arrival and departure days.\n",
    "\n",
    "Our goal is to determine the optimal pricing strategy that maximizes total revenue over the booking horizon while considering customer behavior and room availability."
   ]
  },
  {
   "cell_type": "markdown",
   "id": "609fb8b4-aaf0-4ecb-89e0-06cc38bbbc3a",
   "metadata": {},
   "source": [
    "## Implementation Steps"
   ]
  },
  {
   "cell_type": "markdown",
   "id": "13c7999b-f948-4fda-bd83-abb275e434a1",
   "metadata": {},
   "source": [
    "### 1. Define Booking Classes\n",
    "First, we need to define all possible booking classes based on the service horizon. A booking class is characterized by its arrival day $a^b$ and departure day $d^b$."
   ]
  },
  {
   "cell_type": "code",
   "execution_count": null,
   "id": "b93f417d-196e-4a17-8f27-391b83b2e0ae",
   "metadata": {},
   "outputs": [],
   "source": [
    "import itertools\n",
    "import numpy as np\n",
    "import matplotlib.pyplot as plt"
   ]
  },
  {
   "cell_type": "code",
   "execution_count": null,
   "id": "80c30ea8-f238-4a31-ad29-7ea11931da51",
   "metadata": {},
   "outputs": [],
   "source": [
    "# Define BookingClass as a data structure\n",
    "class BookingClass:\n",
    "    def __init__(self, id, arrival, departure):\n",
    "        \"\"\"\n",
    "        Initializes a booking class.\n",
    "\n",
    "        Parameters:\n",
    "        - id: Unique identifier for the booking class\n",
    "        - arrival: Arrival day (a^b)\n",
    "        - departure: Departure day (d^b)\n",
    "        \"\"\"\n",
    "        self.id = id\n",
    "        self.arrival = arrival\n",
    "        self.departure = departure\n",
    "        self.length = departure - arrival + 1  # L^b\n",
    "        self.stay_days = list(range(arrival, departure + 1))  # N^b\n",
    "        \n",
    "        def capacity_consumption(self):\n",
    "            \"\"\"\n",
    "            Returns the capacity consumption vector e^b.\n",
    "            \"\"\"\n",
    "            e_b = [0] * 3  # Since N=3\n",
    "            for day in self.stay_days:\n",
    "                e_b[day - 1] = 1\n",
    "            return tuple(e_b)"
   ]
  },
  {
   "cell_type": "code",
   "execution_count": null,
   "id": "546e36be-c301-4216-b64b-6315134c6b72",
   "metadata": {},
   "outputs": [],
   "source": [
    "# Initialize booking classes for N=3\n",
    "def initialize_booking_classes(N):\n",
    "    \"\"\"\n",
    "    Generates all possible booking classes for the service horizon.\n",
    "\n",
    "    Parameters:\n",
    "    - N: Number of service days\n",
    "\n",
    "    Returns:\n",
    "    - List of BookingClass instances\n",
    "    \"\"\"\n",
    "    booking_classes = []\n",
    "    id_counter = 1\n",
    "    for a, d in itertools.product(range(1, N + 1), repeat=2):\n",
    "        if a <= d:\n",
    "            booking_classes.append(BookingClass(id=id_counter, arrival=a, departure=d))\n",
    "            id_counter += 1\n",
    "    return booking_classes"
   ]
  },
  {
   "cell_type": "code",
   "execution_count": null,
   "id": "73dbc6d3-19ba-4a68-a1ae-0cbed6b3a1ca",
   "metadata": {},
   "outputs": [],
   "source": [
    "# Initialize booking classes\n",
    "N = 3\n",
    "booking_classes = initialize_booking_classes(N)\n",
    "print(\"Defined Booking Classes:\")\n",
    "for bc in booking_classes:\n",
    "    print(f\"Class {bc.id}: Arrival Day {bc.arrival}, Departure Day {bc.departure}, Stay Days {bc.stay_days}\")"
   ]
  },
  {
   "cell_type": "markdown",
   "id": "cf7179ce-34c6-430d-ad31-c095b6988a7a",
   "metadata": {},
   "source": [
    "### 2. Define State Space\n",
    "The state of the system is represented by the remaining capacity for each day in the service horizon. Given $C=5$ and $N=3$, each state is a tuple ($x_1, x_2, x_3$) where $0\\leq x_i\\leq 5$."
   ]
  },
  {
   "cell_type": "code",
   "execution_count": null,
   "id": "51a80890-3da5-4ac3-b22a-956f83638ca0",
   "metadata": {},
   "outputs": [],
   "source": [
    "# Define the state space\n",
    "def generate_all_spaces(C, N):\n",
    "    \"\"\"\n",
    "    Generates all possible states based on capacity and service horizon.\n",
    "\n",
    "    Parameters:\n",
    "    - C: Total capacity\n",
    "    - N: Number of service days\n",
    "\n",
    "    Returns:\n",
    "    - List of state tuples\n",
    "    \"\"\"\n",
    "    return list(itertools.product(range(C + 1), repeat=N))"
   ]
  },
  {
   "cell_type": "code",
   "execution_count": null,
   "id": "77ed8fda-4fbb-44cf-8195-fbe06b09e855",
   "metadata": {},
   "outputs": [],
   "source": [
    "# Initialize states\n",
    "C = 5\n",
    "states = generate_all_spaces(C, N)\n",
    "print(f\"\\nTotal number of states: {len(states)}\")\n",
    "print(\"Sample states:\")\n",
    "print(states[:5])"
   ]
  },
  {
   "cell_type": "markdown",
   "id": "798234c2-0651-48bd-baea-80aee837c056",
   "metadata": {},
   "source": [
    "**Explanation:** For $C=5$ and $N=3$, there are $6^3=216$ possible states."
   ]
  },
  {
   "cell_type": "markdown",
   "id": "a5a11150-2fb0-4d91-9f35-a3d35e85a8ad",
   "metadata": {},
   "source": [
    "### 3. Defining Pricing and Demand Functions"
   ]
  },
  {
   "cell_type": "markdown",
   "id": "ede6d0eb-a1a5-403e-a1c0-0d881ec755cd",
   "metadata": {},
   "source": [
    "We need to define how pricing effects demand. For simplicity, we'll assume:\n",
    "- **Reservation Price Distribution** ($F^b(q)$): Uniform distribution between 50 and 150.\n",
    "- **Arrival Probabilities** ($\\pi_t^b$): Fixed probabilities for erach booking class and time period.\n",
    "- **Pricing Decisions** ($p_t$): Discrete price levels (50, 100, 150) for each day."
   ]
  },
  {
   "cell_type": "markdown",
   "id": "8e4d3f6c-8712-4334-b742-734fdd48c3d1",
   "metadata": {},
   "source": [
    "#### a. Reservation Price Distribution"
   ]
  },
  {
   "cell_type": "code",
   "execution_count": null,
   "id": "2ee30104-1480-46da-91ed-e3c9e6a52547",
   "metadata": {},
   "outputs": [],
   "source": [
    "# Define the reservation price CDF for uniform distribution between 50 and 150\n",
    "def reservation_price_cdf(p):\n",
    "    \"\"\"\n",
    "    CDF of the reservation price (uniform distribution between 50 and 150).\n",
    "\n",
    "    Parameters:\n",
    "    - p: Offered average price\n",
    "\n",
    "    Returns:\n",
    "    - CDF value at price p\n",
    "    \"\"\"\n",
    "    if p < 50:\n",
    "        return 0.0\n",
    "    elif p > 150:\n",
    "        return 1.0\n",
    "    else:\n",
    "        return (p-50) / 100.0\n",
    "    \n",
    "# Define the survival function (1-CDF)\n",
    "def survival_function(p):\n",
    "    \"\"\"\n",
    "    Survival function: Pr(q >= p)\n",
    "\n",
    "    Parameters:\n",
    "    - p: Offered average price\n",
    "\n",
    "    Returns:\n",
    "    - Survival probability\n",
    "    \"\"\"\n",
    "    return 1 - reservation_price_cdf(p)"
   ]
  },
  {
   "cell_type": "markdown",
   "id": "a615b040-d95b-43de-beae-ee4829d472a4",
   "metadata": {},
   "source": [
    "**Explanation:**\n",
    "\n",
    "- The reservation price $q$ is uniformly distributed between 50 and 150, which implies a _linear_ demand function.\n",
    "- The CDF $F^b(p) = \\Pr(q \\leq p)$ is:\n",
    "    - $0$ for $p < 50$\n",
    "    - $\\frac{p - 50}{100}$ for $50 \\leq p \\leq 150$\n",
    "    - $1$ for $p > 150$\n",
    "- The survival function $\\bar{F}^b(p) = \\Pr(q \\geq p) = 1 - F^b(p)$."
   ]
  },
  {
   "cell_type": "markdown",
   "id": "b29086f8-1505-4bc8-8a70-3ab0f91d3ee9",
   "metadata": {},
   "source": [
    "#### b. Arrival Probabilities\n",
    "We'll define fixed arrival probabilities $\\pi_t^b$ for each booking class $b$ and time period $t$.\n",
    "\n",
    "For simplicity, assume:\n",
    "- At each booking period, each booking class has a fixed arrival probability.\n",
    "- Sum of $\\pi_t^b$ across all booking classes must be less than or equal to 1 for each period $t$, ensuring there will be at most one arrival each time period:\n",
    "$$\n",
    "\\sum_{b\\in \\mathcal{B}}\\pi_t^b\\leq 1, \\qquad \\forall t\\in\\mathcal{T}\n",
    "$$"
   ]
  },
  {
   "cell_type": "code",
   "execution_count": null,
   "id": "937e6ec8-dede-4cae-8b7d-d37fcbadbb9a",
   "metadata": {},
   "outputs": [],
   "source": [
    "# Number of booking periods\n",
    "T = 2\n",
    "\n",
    "# Initialize pi as a dictionary: pi[t][b] = arrival probability\n",
    "pi = {t: {} for t in range(1, T + 1)}\n",
    "\n",
    "# Example probabilities (these should sum to <=1 for each t, ensuring at most one arrival each period)\n",
    "# For simplicity and illustration purpose, assume\n",
    "# - Each booking class has a 0.1 probability of arrival in each period\n",
    "for t in range(1, T + 1):\n",
    "    for bc in booking_classes:\n",
    "        pi[t][bc.id] = 0.15  # 0.1 probability for each class\n",
    "        \n",
    "# Ensure that for each t, sum(pi[t][b]) <=1\n",
    "for t in pi:\n",
    "    total_pi = sum(pi[t].values())\n",
    "    print(f\"Total arrival probability at time {t}: {total_pi}\")"
   ]
  },
  {
   "cell_type": "markdown",
   "id": "0d8d43ca-2a04-4c0e-b411-afe4ad0fe57f",
   "metadata": {},
   "source": [
    "**Explanation:**\n",
    "\n",
    "- We assign a 10% arrival probability to each booking class at each time period.\n",
    "- With 6 booking classes, the total arrival probability per time period is $6 \\times 0.15 = 0.9$, which satisfies $\\sum_b \\pi_t^b \\leq 1$."
   ]
  },
  {
   "cell_type": "markdown",
   "id": "181469ef-c207-4108-8b0d-24f3a845d227",
   "metadata": {},
   "source": [
    "#### b. Pricing Decisions\n",
    "We'll define discrete pricing levels for simplicity and illustration purpose."
   ]
  },
  {
   "cell_type": "code",
   "execution_count": null,
   "id": "fd673ec1-f47c-4155-9ab1-5213f4b659cd",
   "metadata": {},
   "outputs": [],
   "source": [
    "# Define discrete price levels for each day in the service horizon.\n",
    "# price_levels = [50, 75, 100, 125, 150]  # Possible prices for each day\n",
    "price_levels = np.linspace(50, 150, 10)\n",
    "\n",
    "# Generate all possible price vectors (combinations of prices for each day)\n",
    "price_vectors = list(itertools.product(price_levels, repeat=N))\n",
    "print(f\"\\nTotal number of price vectors: {len(price_vectors)}\")\n",
    "print(\"Sample price vectors:\")\n",
    "print(price_vectors[:5])"
   ]
  },
  {
   "cell_type": "markdown",
   "id": "5c593a1a-d2f8-41d0-974a-5be56c714824",
   "metadata": {},
   "source": [
    "**Explanation:**\n",
    "- Each day can have a price of \\$50, \\$100, or \\$150.\n",
    "- Allow each day to have its own price, resulting in a price vector for the entire service horizon. For instance, Monday price is different from Tuesday price.\n",
    "- For $N=3$ days and 3 price levels, the total number of possible price vectors is $3^3=27$."
   ]
  },
  {
   "cell_type": "markdown",
   "id": "0ed44f00-da49-49de-89f0-c6989ffa9592",
   "metadata": {},
   "source": [
    "### 4. Implement Dynamic Programming\n",
    "We'll use dynamic programming to determine the optimal pricing strategy that maximizes expected revenue."
   ]
  },
  {
   "cell_type": "markdown",
   "id": "4274b2cf-4d2f-404c-b8c3-f2d7167a1771",
   "metadata": {},
   "source": [
    "#### a. Initialize Value Function\n",
    "The value function $V(\\mathbf{x}_t, t)$ represents the maximum expected revenue from state $\\mathbf{x}_t$ at time $t$."
   ]
  },
  {
   "cell_type": "code",
   "execution_count": null,
   "id": "b3074799-0c7c-442c-8cc0-599a3fff9b6e",
   "metadata": {},
   "outputs": [],
   "source": [
    "# Initialize value function as a dictionary: V[state][t]\n",
    "# States are represented as tuples (x1, x2, x3), representing remaining capacity for each day in the service horizon\n",
    "# Initialize all V[state][T+1] = 0\n",
    "V = {state: {t: 0.0 for t in range(1, T + 2)} for state in states}\n",
    "\n",
    "# Optional: Initialize policy dictionary to store optimal prices\n",
    "policy = {state: {t: None for t in range(1, T + 1)} for state in states}"
   ]
  },
  {
   "cell_type": "markdown",
   "id": "bcc57174-1c44-4519-9f9e-913faa3d81f3",
   "metadata": {},
   "source": [
    "**Explanation:**\n",
    "- For each state and time, we initialize the valye function to zero for $t=T+1$, representing the end of the booking horizon.\n",
    "- The `policy` dictionary will store the optimal pricing decisions for each state and time."
   ]
  },
  {
   "cell_type": "markdown",
   "id": "4b88c281-0885-4cfa-a12e-eb2def578279",
   "metadata": {},
   "source": [
    "#### b. Recursive Computation\n",
    "We'll iterate backwards from $t=T$ to $t=1$, updating the value function based on possible pricing decisions and expetced outcomes."
   ]
  },
  {
   "cell_type": "code",
   "execution_count": null,
   "id": "5ae6fe5e-f491-43aa-9f2c-ebb18b503d6d",
   "metadata": {},
   "outputs": [],
   "source": [
    "# Function to check capacity availability\n",
    "def is_available(state, booking_class):\n",
    "    \"\"\"\n",
    "    Checks if a booking can be accommodated in the current state.\n",
    "\n",
    "    Parameters:\n",
    "    - state: Current state tuple\n",
    "    - booking_class: BookingClass instance\n",
    "\n",
    "    Returns:\n",
    "    - True if booking can be accommodated, False otherwise\n",
    "    \"\"\"\n",
    "    for day in booking_class.stay_days:\n",
    "        if state[day - 1] < 1:\n",
    "            return False\n",
    "    return True\n",
    "\n",
    "# Function to update state after accepting a booking\n",
    "def update_state(state, booking_class):\n",
    "    \"\"\"\n",
    "    Updates the state by accepting a booking.\n",
    "\n",
    "    Parameters:\n",
    "    - state: Current state tuple\n",
    "    - booking_class: BookingClass instance\n",
    "\n",
    "    Returns:\n",
    "    - New state tuple after booking\n",
    "    \"\"\"\n",
    "    new_state = list(state)\n",
    "    for day in booking_class.stay_days:\n",
    "        new_state[day - 1] -= 1\n",
    "    return tuple(new_state)"
   ]
  },
  {
   "cell_type": "code",
   "execution_count": null,
   "id": "17baa730-72ea-4089-99b2-e2dd380e706a",
   "metadata": {},
   "outputs": [],
   "source": [
    "# Iterate over booking periods in reverse order\n",
    "for t in range(T, 0, -1):\n",
    "    print(f\"\\nProcessing time period t={t}\")\n",
    "    for state in states:\n",
    "        max_revenue = -np.inf\n",
    "        optimal_price_vector = None\n",
    "        # Iterate over possible pricing decisions\n",
    "        for price_vector in price_vectors:\n",
    "            # Calculate average prices for each booking class based on the price vector\n",
    "            # Proceed with revenue and future value calculations\n",
    "            # Initialize all revenues to zero\n",
    "            total_revenue = 0.0\n",
    "            expected_future_revenue = 0.0\n",
    "            # Immediate revenue\n",
    "            for bc in booking_classes:\n",
    "                # Extract prices for the stay days from the price vector\n",
    "                stay_prices = [price_vector[day - 1] for day in bc.stay_days]\n",
    "                # Calculate average price for booking class\n",
    "                avg_price = np.mean(stay_prices)\n",
    "                \n",
    "                # Calculate acceptance probability\n",
    "                acceptance_prob = survival_function(avg_price)\n",
    "                \n",
    "                # Expected demand\n",
    "                lambda_tb = pi[t][bc.id] * acceptance_prob\n",
    "                \n",
    "                # Check capacity availability\n",
    "                if is_available(state, bc):\n",
    "                    # Revenue from this booking class\n",
    "                    revenue = bc.length * avg_price * lambda_tb\n",
    "                    total_revenue += revenue\n",
    "                    \n",
    "                    # Update state if booking is accepted\n",
    "                    new_state = update_state(state, bc)\n",
    "                    \n",
    "                    # Add future revenue\n",
    "                    expected_future_revenue += lambda_tb * V[new_state][t+1]\n",
    "                else:\n",
    "                    # Cannot accept booking due to capacity constraint\n",
    "                    pass\n",
    "            # Total expected revenue for this pricing decision\n",
    "            total_expected_revenue = total_revenue + expected_future_revenue\n",
    "            # Update maximum revenue and optimal price\n",
    "            if total_expected_revenue > max_revenue:\n",
    "                max_revenue = total_expected_revenue\n",
    "                optimal_price_vector = price_vector\n",
    "        # Update value function and policy\n",
    "        V[state][t] = max_revenue\n",
    "        policy[state][t] = optimal_price_vector"
   ]
  },
  {
   "cell_type": "markdown",
   "id": "620afb60-dbe9-47e6-a8b7-b52b4fdcf139",
   "metadata": {},
   "source": [
    "**Explanation:**\n",
    "- **Capacity Check:** For each booking class, we check if there is sufficient capacity to accomodate the booking.\n",
    "- **Purchase Probability:** Based on the offered average price, we compute the probability that a customer accepts the booking. This purchase probability depends on the average price, which varies per booking class.\n",
    "- **Expected Demand:** $\\lambda_t^b(p_t^b) = \\pi_t^b \\times \\bar{F}^b(p_t^b)$\n",
    "- **Revenue Calculation:**\n",
    "    - **Immediate Revenue:** Sum of revenues from all accepted bookings. There will be at most one accepted booking since at most one arrival occurs in each period.\n",
    "    - **Future Revenue:** Expected revenue from future booking periods based on the updated state after accepting bookins\n",
    "- **Policy Update:** For each state and time, we store the pricing decision that yields the maximum expected revenue."
   ]
  },
  {
   "cell_type": "markdown",
   "id": "b2c92d72-3507-4628-8ac5-0b8e1bf3e447",
   "metadata": {},
   "source": [
    "### 5. Visualize Results\n",
    "Let's visualize the optimal pricing strategy and the value function."
   ]
  },
  {
   "cell_type": "markdown",
   "id": "b8369b6a-eb92-4229-83bd-04a27b77d606",
   "metadata": {},
   "source": [
    "#### a. Optimal Pricing Policy\n",
    "We'll visualize the optimal price for each state at each time period."
   ]
  },
  {
   "cell_type": "code",
   "execution_count": null,
   "id": "3e1609a9-a7af-4628-92a5-2b6c3af1337f",
   "metadata": {},
   "outputs": [],
   "source": [
    "# For visualization, we'll select a subset of states for clarity.\n",
    "# For example, states where total available rooms are <=5\n",
    "\n",
    "# Function to calculate total available rooms\n",
    "def total_available(state):\n",
    "    return sum(state)\n",
    "\n",
    "# Select states with total available rooms <= 5 (all states)\n",
    "selected_states = [state for state in states if total_available(state) <= C]\n",
    "\n",
    "# Extract policies for t = 1 and t = 2\n",
    "policy_t1 = {state: policy[state][1] for state in selected_states}\n",
    "policy_t2 = {state: policy[state][2] for state in selected_states}"
   ]
  },
  {
   "cell_type": "markdown",
   "id": "2adf4fb2-4a17-4bd6-aacd-199dea3fcb5a",
   "metadata": {},
   "source": [
    "##### Option 1: Visualize Average Price Across Days"
   ]
  },
  {
   "cell_type": "code",
   "execution_count": null,
   "id": "18f99e46-9fa9-4851-9dff-604434cb40d2",
   "metadata": {},
   "outputs": [],
   "source": [
    "# For simplicity and illustration purpose, we visualize policies for t=1\n",
    "# We'll plot the optimal price based on the number of available rooms on each day.\n",
    "\n",
    "# Create a 3D plot where axes are x1, x2, x3 and color represents optimal price\n",
    "from mpl_toolkits.mplot3d import Axes3D\n",
    "\n",
    "# Prepare data for plotting t=1\n",
    "x1 = []\n",
    "x2 = []\n",
    "x3 = []\n",
    "avg_prices = []\n",
    "for state, price_vector in policy_t1.items():\n",
    "    x1.append(state[0])\n",
    "    x2.append(state[1])\n",
    "    x3.append(state[2])\n",
    "    \n",
    "    avg_price = np.mean(price_vector)\n",
    "    avg_prices.append(avg_price)\n",
    "\n",
    "# Normalize prices for coloring\n",
    "price_colors = [price / 150 for price in avg_prices]  # Normalize between 0 and 1\n",
    "\n",
    "# Plot\n",
    "fig = plt.figure(figsize=(10, 7))\n",
    "ax = fig.add_subplot(111, projection='3d')\n",
    "scatter = ax.scatter(x1, x2, x3, c=price_colors, cmap='viridis')\n",
    "ax.set_xlabel('Available Rooms Day 1')\n",
    "ax.set_ylabel('Available Rooms Day 2')\n",
    "ax.set_zlabel('Available Rooms Day 3')\n",
    "ax.set_title('Optimal Average Pricing Policy at Time t=1')\n",
    "cbar = fig.colorbar(scatter, ax=ax, shrink=0.5, aspect=10)\n",
    "cbar.set_label('Normalized Average Price')\n",
    "plt.show()"
   ]
  },
  {
   "cell_type": "markdown",
   "id": "66f414b9-ea18-4261-89f2-1a4c07f73c44",
   "metadata": {},
   "source": [
    "**Explanations:**\n",
    "- **Average Price:** Compute the mean of the price vector to represent overall pricing strategy.\n",
    "- **Color Encoding:** Use normalized average prices to color-code the scatter plot."
   ]
  },
  {
   "cell_type": "markdown",
   "id": "39bdd5b6-cc46-470f-b5d0-6640b967bcef",
   "metadata": {},
   "source": [
    "##### Option 2: Visualize Prices for Each Day Separately"
   ]
  },
  {
   "cell_type": "code",
   "execution_count": null,
   "id": "f808ba8b-9a39-4b19-90fe-dbb2ba74d0f9",
   "metadata": {},
   "outputs": [],
   "source": [
    "# Prepare separate plots for each day\n",
    "for day in range(1, N + 1):\n",
    "    x1 = []\n",
    "    x2 = []\n",
    "    x3 = []\n",
    "    prices_day = []\n",
    "    for state, price_vector in policy_t1.items():\n",
    "        x1.append(state[0])\n",
    "        x2.append(state[1])\n",
    "        x3.append(state[2])\n",
    "        prices_day.append(price_vector[day - 1])\n",
    "    \n",
    "    # Normalize prices for coloring\n",
    "    price_colors = [price / 150 for price in prices_day]  # Normalize between 0 and 1\n",
    "    \n",
    "    # Plot\n",
    "    fig = plt.figure(figsize=(10, 7))\n",
    "    ax = fig.add_subplot(111, projection='3d')\n",
    "    scatter = ax.scatter(x1, x2, x3, c=price_colors, cmap='viridis')\n",
    "    ax.set_xlabel('Available Rooms Day 1')\n",
    "    ax.set_ylabel('Available Rooms Day 2')\n",
    "    ax.set_zlabel('Available Rooms Day 3')\n",
    "    ax.set_title(f'Optimal Pricing Policy for Day {day} at Time t=1')\n",
    "    cbar = fig.colorbar(scatter, ax=ax, shrink=0.5, aspect=10)\n",
    "    cbar.set_label('Normalized Price')\n",
    "    plt.show()"
   ]
  },
  {
   "cell_type": "markdown",
   "id": "ce1aaf77-397e-44ee-8f09-ef4d8d400557",
   "metadata": {},
   "source": [
    "**Explanation:**\n",
    "\n",
    "- **Separate Visualizations:** Create individual plots for each day to observe pricing strategies independently.\n",
    "- **Color Encoding:** Each plot represents the pricing strategy for a specific day, making it easier to analyze day-specific pricing."
   ]
  },
  {
   "cell_type": "code",
   "execution_count": null,
   "id": "b9ee0c02-28e3-46ef-a336-59fdad04f913",
   "metadata": {},
   "outputs": [],
   "source": [
    "# Visualize value function for t=1\n",
    "# For simplicity, plot value against total available rooms\n",
    "\n",
    "total_rooms = [total_available(state) for state in selected_states]\n",
    "values = [V[state][1] for state in selected_states]\n",
    "\n",
    "plt.figure(figsize=(8, 6))\n",
    "plt.scatter(total_rooms, values, c='blue', alpha=0.6)\n",
    "plt.xlabel('Total Available Rooms')\n",
    "plt.ylabel('Value Function V(state, t=1)')\n",
    "plt.title('Value Function at Time t=1')\n",
    "plt.grid(True)\n",
    "plt.show()"
   ]
  },
  {
   "cell_type": "markdown",
   "id": "47b92ed8-f0c7-41ea-b041-76ec963e56fa",
   "metadata": {},
   "source": [
    "We can modify the arrival probabilities, pricing levels, or reservation price distributions to explore different scenarios and their impact on the optimal pricing strategy."
   ]
  },
  {
   "cell_type": "code",
   "execution_count": null,
   "id": "dae86f15-53ae-4893-a667-3bcba2326b90",
   "metadata": {},
   "outputs": [],
   "source": []
  }
 ],
 "metadata": {
  "kernelspec": {
   "display_name": "data-driven-adaptive-pricing",
   "language": "python",
   "name": "data-driven-adaptive-pricing"
  },
  "language_info": {
   "codemirror_mode": {
    "name": "ipython",
    "version": 3
   },
   "file_extension": ".py",
   "mimetype": "text/x-python",
   "name": "python",
   "nbconvert_exporter": "python",
   "pygments_lexer": "ipython3",
   "version": "3.11.3"
  }
 },
 "nbformat": 4,
 "nbformat_minor": 5
}
