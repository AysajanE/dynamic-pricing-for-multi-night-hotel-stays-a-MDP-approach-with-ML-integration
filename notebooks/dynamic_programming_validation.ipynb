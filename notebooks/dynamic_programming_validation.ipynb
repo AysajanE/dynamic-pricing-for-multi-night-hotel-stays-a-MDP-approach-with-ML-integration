{
 "cells": [
  {
   "cell_type": "code",
   "execution_count": 1,
   "id": "ada079c0-cdc3-428b-b8fb-de9fbdd40ea9",
   "metadata": {},
   "outputs": [],
   "source": [
    "from data_generator import StudyParameters\n",
    "from experiment1_solution_quality import DynamicProgramming\n",
    "import logging\n",
    "from pprint import pformat\n",
    "\n",
    "logging.basicConfig(level=logging.INFO)\n",
    "logger = logging.getLogger(__name__)"
   ]
  },
  {
   "cell_type": "code",
   "execution_count": 2,
   "id": "617d03c5-6511-4b7b-937a-4bcb55604a5e",
   "metadata": {},
   "outputs": [],
   "source": [
    "def create_simple_test_instance():\n",
    "    \"\"\"Create test instance with specified parameters.\"\"\"\n",
    "    params = StudyParameters(\n",
    "        T=2,          # 2 booking periods\n",
    "        N=3,          # 3-day horizon\n",
    "        C=5,          # 5 rooms capacity\n",
    "        price_min=50, # Minimum price\n",
    "        price_max=150,# Maximum price\n",
    "        alpha=0.1,    # Not used in DP\n",
    "        beta=0.1      # Not used in DP\n",
    "    )\n",
    "    \n",
    "    # Generate booking classes\n",
    "    booking_classes = []\n",
    "    for arrival in range(1, 4):\n",
    "        for departure in range(arrival, 4):\n",
    "            booking_classes.append((arrival, departure))\n",
    "    \n",
    "    # Uniform arrival probabilities (0.15)\n",
    "    arrival_probs = {}\n",
    "    for t in range(1, 3):\n",
    "        arrival_probs[t] = {bc: 0.15 for bc in booking_classes}\n",
    "    \n",
    "    # Uniform price sensitivity (1/max_price)\n",
    "    epsilon = 1/params.price_max\n",
    "    price_sensitivity = {bc: epsilon for bc in booking_classes}\n",
    "    \n",
    "    return {\n",
    "        'parameters': params,\n",
    "        'booking_classes': booking_classes,\n",
    "        'arrival_probabilities': arrival_probs,\n",
    "        'reservation_price_params': price_sensitivity\n",
    "    }"
   ]
  },
  {
   "cell_type": "code",
   "execution_count": 3,
   "id": "66c8372c-7853-4490-91fd-17943b16240e",
   "metadata": {},
   "outputs": [],
   "source": [
    "def main():\n",
    "    test_instance = create_simple_test_instance()\n",
    "    \n",
    "    # Print instance details\n",
    "    logger.info(\"Test Instance Details:\")\n",
    "    logger.info(f\"Time Periods (T): {test_instance['parameters'].T}\")\n",
    "    logger.info(f\"Service Horizon (N): {test_instance['parameters'].N}\")\n",
    "    logger.info(f\"Room Capacity (C): {test_instance['parameters'].C}\")\n",
    "    logger.info(f\"Price Range: [{test_instance['parameters'].price_min}, {test_instance['parameters'].price_max}]\")\n",
    "    \n",
    "    # Solve using Dynamic Programming\n",
    "    dp = DynamicProgramming(test_instance)\n",
    "    results, optimal_value = dp.solve()\n",
    "    \n",
    "    # Print formatted results for states with capacity 5\n",
    "    logger.info(\"\\nValue Function for States with Capacity 5:\")\n",
    "    logger.info(pformat(results))\n",
    "    \n",
    "    logger.info(f\"\\nOptimal Value: {optimal_value:.4f}\")"
   ]
  },
  {
   "cell_type": "code",
   "execution_count": 4,
   "id": "7354b324-be3b-4c6a-a2cf-917dcf282a80",
   "metadata": {},
   "outputs": [
    {
     "name": "stderr",
     "output_type": "stream",
     "text": [
      "INFO:__main__:Test Instance Details:\n",
      "INFO:__main__:Time Periods (T): 2\n",
      "INFO:__main__:Service Horizon (N): 3\n",
      "INFO:__main__:Room Capacity (C): 5\n",
      "INFO:__main__:Price Range: [50, 150]\n",
      "INFO:experiment1_solution_quality:Starting DP solution\n",
      "INFO:experiment1_solution_quality:Processing time period 2\n",
      "INFO:experiment1_solution_quality:Processing time period 1\n",
      "INFO:__main__:\n",
      "Value Function for States with Capacity 5:\n",
      "INFO:__main__:{(5, 0, 0): {1: 50, 2: 50, 3: 50},\n",
      " (5, 0, 1): {1: 50, 2: 50, 3: 100.0},\n",
      " (5, 0, 2): {1: 50, 2: 50, 3: 50},\n",
      " (5, 0, 3): {1: 50, 2: 50, 3: 50},\n",
      " (5, 0, 4): {1: 50, 2: 50, 3: 50},\n",
      " (5, 0, 5): {1: 50, 2: 50, 3: 50},\n",
      " (5, 1, 0): {1: 50, 2: 100.0, 3: 50},\n",
      " (5, 1, 1): {1: 50, 2: 100.0, 3: 100.0},\n",
      " (5, 1, 2): {1: 50, 2: 100.0, 3: 100.0},\n",
      " (5, 1, 3): {1: 50, 2: 100.0, 3: 100.0},\n",
      " (5, 1, 4): {1: 50, 2: 100.0, 3: 100.0},\n",
      " (5, 1, 5): {1: 50, 2: 100.0, 3: 100.0},\n",
      " (5, 2, 0): {1: 50, 2: 100.0, 3: 50},\n",
      " (5, 2, 1): {1: 100.0, 2: 50, 3: 100.0},\n",
      " (5, 2, 2): {1: 50, 2: 100.0, 3: 50},\n",
      " (5, 2, 3): {1: 50, 2: 100.0, 3: 50},\n",
      " (5, 2, 4): {1: 50, 2: 100.0, 3: 50},\n",
      " (5, 2, 5): {1: 50, 2: 100.0, 3: 50},\n",
      " (5, 3, 0): {1: 50, 2: 100.0, 3: 50},\n",
      " (5, 3, 1): {1: 100.0, 2: 50, 3: 100.0},\n",
      " (5, 3, 2): {1: 50, 2: 100.0, 3: 50},\n",
      " (5, 3, 3): {1: 50, 2: 100.0, 3: 50},\n",
      " (5, 3, 4): {1: 50, 2: 100.0, 3: 50},\n",
      " (5, 3, 5): {1: 50, 2: 100.0, 3: 50},\n",
      " (5, 4, 0): {1: 50, 2: 100.0, 3: 50},\n",
      " (5, 4, 1): {1: 100.0, 2: 50, 3: 100.0},\n",
      " (5, 4, 2): {1: 50, 2: 100.0, 3: 50},\n",
      " (5, 4, 3): {1: 50, 2: 100.0, 3: 50},\n",
      " (5, 4, 4): {1: 50, 2: 100.0, 3: 50},\n",
      " (5, 4, 5): {1: 50, 2: 100.0, 3: 50},\n",
      " (5, 5, 0): {1: 50, 2: 100.0, 3: 50},\n",
      " (5, 5, 1): {1: 100.0, 2: 50, 3: 100.0},\n",
      " (5, 5, 2): {1: 50, 2: 100.0, 3: 50},\n",
      " (5, 5, 3): {1: 50, 2: 100.0, 3: 50},\n",
      " (5, 5, 4): {1: 50, 2: 100.0, 3: 50},\n",
      " (5, 5, 5): {1: 50, 2: 100.0, 3: 50}}\n",
      "INFO:__main__:\n",
      "Optimal Value: 108.3333\n"
     ]
    }
   ],
   "source": [
    "if __name__ == \"__main__\":\n",
    "    main()"
   ]
  },
  {
   "cell_type": "code",
   "execution_count": null,
   "id": "411909f8-c13c-46e8-8ada-7e4bbcdc5d35",
   "metadata": {},
   "outputs": [],
   "source": []
  }
 ],
 "metadata": {
  "kernelspec": {
   "display_name": "Python 3 (ipykernel)",
   "language": "python",
   "name": "python3"
  },
  "language_info": {
   "codemirror_mode": {
    "name": "ipython",
    "version": 3
   },
   "file_extension": ".py",
   "mimetype": "text/x-python",
   "name": "python",
   "nbconvert_exporter": "python",
   "pygments_lexer": "ipython3",
   "version": "3.11.0"
  }
 },
 "nbformat": 4,
 "nbformat_minor": 5
}
