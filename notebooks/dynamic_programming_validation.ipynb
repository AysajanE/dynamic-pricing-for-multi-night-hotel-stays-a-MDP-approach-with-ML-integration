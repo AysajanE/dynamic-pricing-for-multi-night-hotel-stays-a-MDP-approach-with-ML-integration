{
 "cells": [
  {
   "cell_type": "code",
   "execution_count": null,
   "id": "ada079c0-cdc3-428b-b8fb-de9fbdd40ea9",
   "metadata": {},
   "outputs": [],
   "source": [
    "import numpy as np\n",
    "import time\n",
    "from data_generator import StudyParameters\n",
    "from experiment1_solution_quality import DynamicProgramming, StochasticApproximation\n",
    "import logging\n",
    "from pprint import pformat\n",
    "\n",
    "logging.basicConfig(level=logging.INFO)\n",
    "logger = logging.getLogger(__name__)"
   ]
  },
  {
   "cell_type": "markdown",
   "id": "8333c2c8-4282-489a-ad73-4ae1e0128858",
   "metadata": {},
   "source": [
    "# Create Simple Test Instance"
   ]
  },
  {
   "cell_type": "code",
   "execution_count": null,
   "id": "617d03c5-6511-4b7b-937a-4bcb55604a5e",
   "metadata": {},
   "outputs": [],
   "source": [
    "def create_simple_test_instance():\n",
    "    \"\"\"Create test instance with specified parameters.\"\"\"\n",
    "    params = StudyParameters(\n",
    "        T=2,          # 2 booking periods\n",
    "        N=3,          # 3-day horizon\n",
    "        C=5,          # 5 rooms capacity\n",
    "        price_min=50, # Minimum price\n",
    "        price_max=150,# Maximum price\n",
    "        alpha=0.1,    # Not used in DP\n",
    "        beta=0.1      # Not used in DP\n",
    "    )\n",
    "    \n",
    "    # Generate booking classes\n",
    "    booking_classes = []\n",
    "    for arrival in range(1, 4):\n",
    "        for departure in range(arrival, 4):\n",
    "            booking_classes.append((arrival, departure))\n",
    "    \n",
    "    # Uniform arrival probabilities (0.15)\n",
    "    arrival_probs = {}\n",
    "    for t in range(1, 3):\n",
    "        arrival_probs[t] = {bc: 0.15 for bc in booking_classes}\n",
    "    \n",
    "    # Uniform price sensitivity (1/max_price)\n",
    "    epsilon = 1/params.price_max\n",
    "    price_sensitivity = {bc: epsilon for bc in booking_classes}\n",
    "    \n",
    "    return {\n",
    "        'parameters': params,\n",
    "        'booking_classes': booking_classes,\n",
    "        'arrival_probabilities': arrival_probs,\n",
    "        'reservation_price_params': price_sensitivity\n",
    "    }"
   ]
  },
  {
   "cell_type": "markdown",
   "id": "a4af679d-c7ba-4d8d-9cbe-5e6976518ea9",
   "metadata": {},
   "source": [
    "# Compare DP Performance vs. SAA Performance"
   ]
  },
  {
   "cell_type": "code",
   "execution_count": null,
   "id": "b1ce8dbe-a0e9-4a44-9483-167310fae7c0",
   "metadata": {},
   "outputs": [],
   "source": [
    "def compare_saa_with_dp():\n",
    "    \"\"\"\n",
    "    Compare SAA performance with Dynamic Programming using a simple test instance.\n",
    "    \"\"\"\n",
    "    # Create the same simple test instance\n",
    "    test_instance = create_simple_test_instance()\n",
    "    \n",
    "    logger.info(\"Test Instance Details:\")\n",
    "    logger.info(f\"Time Periods (T): {test_instance['parameters'].T}\")\n",
    "    logger.info(f\"Service Horizon (N): {test_instance['parameters'].N}\")\n",
    "    logger.info(f\"Room Capacity (C): {test_instance['parameters'].C}\")\n",
    "    logger.info(f\"Price Range: [{test_instance['parameters'].price_min}, {test_instance['parameters'].price_max}]\")\n",
    "    logger.info(f\"Number of Booking Classes: {len(test_instance['booking_classes'])}\")\n",
    "    \n",
    "    # Configure SAA parameters for the simple test\n",
    "    learning_params = {\n",
    "        'eta_0': 0.5,        # Initial learning rate\n",
    "        'gamma': 0.05,       # Learning rate decay\n",
    "        'eta_min': 0.001,    # Minimum learning rate\n",
    "        'max_epochs': 1000,\n",
    "        'batch_size': 64     # Batch size\n",
    "    }\n",
    "    \n",
    "    # Run multiple trials of SAA to account for stochasticity\n",
    "    num_trials = 10\n",
    "    saa_revenues = []\n",
    "    saa_times = []\n",
    "    \n",
    "    logger.info(\"\\nRunning SAA Trials:\")\n",
    "    for trial in range(num_trials):\n",
    "        saa = StochasticApproximation(test_instance, learning_params)\n",
    "        prices, revenue, solve_time = saa.solve()\n",
    "        \n",
    "        # Evaluate final solution with more samples\n",
    "        final_revenue = saa.evaluate(prices, num_samples=10000)\n",
    "        saa_revenues.append(final_revenue)\n",
    "        saa_times.append(solve_time)\n",
    "        \n",
    "        logger.info(f\"Trial {trial + 1}: Revenue = {final_revenue:.4f}, Time = {solve_time:.2f}s\")\n",
    "    \n",
    "    # Calculate SAA statistics\n",
    "    avg_revenue = np.mean(saa_revenues)\n",
    "    std_revenue = np.std(saa_revenues)\n",
    "    avg_time = np.mean(saa_times)\n",
    "    \n",
    "    logger.info(\"\\nSAA Performance Summary:\")\n",
    "    logger.info(f\"Average Revenue: {avg_revenue:.4f} (±{std_revenue:.4f})\")\n",
    "    logger.info(f\"Average Solve Time: {avg_time:.2f}s\")\n",
    "    \n",
    "    # Solve using Dynamic Programming for comparison\n",
    "    dp = DynamicProgramming(test_instance)\n",
    "    start_time = time.time()\n",
    "    _, dp_revenue = dp.solve()\n",
    "    dp_time = time.time() - start_time\n",
    "    \n",
    "    logger.info(\"\\nDynamic Programming Results:\")\n",
    "    logger.info(f\"Optimal Revenue: {dp_revenue:.4f}\")\n",
    "    logger.info(f\"Solve Time: {dp_time:.2f}s\")\n",
    "    \n",
    "    # Compare performance\n",
    "    logger.info(\"\\nPerformance Comparison:\")\n",
    "    logger.info(f\"Revenue Gap: {((dp_revenue - avg_revenue) / dp_revenue * 100):.2f}%\")\n",
    "    logger.info(f\"Time Ratio: {avg_time / dp_time:.2f}x\")\n",
    "    \n",
    "    return {\n",
    "        'saa_avg_revenue': avg_revenue,\n",
    "        'saa_std_revenue': std_revenue,\n",
    "        'saa_avg_time': avg_time,\n",
    "        'dp_revenue': dp_revenue,\n",
    "        'dp_time': dp_time,\n",
    "        'saa_trials': saa_revenues\n",
    "    }"
   ]
  },
  {
   "cell_type": "code",
   "execution_count": null,
   "id": "d59d7178-7b56-48b5-9767-42a40eee3f28",
   "metadata": {},
   "outputs": [],
   "source": [
    "if __name__ == \"__main__\":\n",
    "    results = compare_saa_with_dp()"
   ]
  },
  {
   "cell_type": "markdown",
   "id": "2bfe91c9-d755-477b-9233-afb993b77b69",
   "metadata": {},
   "source": [
    "# Test Dynamic Programming Only"
   ]
  },
  {
   "cell_type": "code",
   "execution_count": null,
   "id": "66c8372c-7853-4490-91fd-17943b16240e",
   "metadata": {},
   "outputs": [],
   "source": [
    "def main():\n",
    "    test_instance = create_simple_test_instance()\n",
    "    \n",
    "    # Print instance details\n",
    "    logger.info(\"Test Instance Details:\")\n",
    "    logger.info(f\"Time Periods (T): {test_instance['parameters'].T}\")\n",
    "    logger.info(f\"Service Horizon (N): {test_instance['parameters'].N}\")\n",
    "    logger.info(f\"Room Capacity (C): {test_instance['parameters'].C}\")\n",
    "    logger.info(f\"Price Range: [{test_instance['parameters'].price_min}, {test_instance['parameters'].price_max}]\")\n",
    "    \n",
    "    # Solve using Dynamic Programming\n",
    "    dp = DynamicProgramming(test_instance)\n",
    "    results, optimal_value = dp.solve()\n",
    "    \n",
    "    # Print formatted results for states with capacity 5\n",
    "    logger.info(\"\\nValue Function for States with Capacity 5:\")\n",
    "    logger.info(pformat(results))\n",
    "    \n",
    "    logger.info(f\"\\nOptimal Value: {optimal_value:.4f}\")"
   ]
  },
  {
   "cell_type": "code",
   "execution_count": null,
   "id": "7354b324-be3b-4c6a-a2cf-917dcf282a80",
   "metadata": {},
   "outputs": [],
   "source": [
    "if __name__ == \"__main__\":\n",
    "    main()"
   ]
  },
  {
   "cell_type": "code",
   "execution_count": null,
   "id": "411909f8-c13c-46e8-8ada-7e4bbcdc5d35",
   "metadata": {},
   "outputs": [],
   "source": []
  }
 ],
 "metadata": {
  "kernelspec": {
   "display_name": "Python 3 (ipykernel)",
   "language": "python",
   "name": "python3"
  },
  "language_info": {
   "codemirror_mode": {
    "name": "ipython",
    "version": 3
   },
   "file_extension": ".py",
   "mimetype": "text/x-python",
   "name": "python",
   "nbconvert_exporter": "python",
   "pygments_lexer": "ipython3",
   "version": "3.11.0"
  }
 },
 "nbformat": 4,
 "nbformat_minor": 5
}
